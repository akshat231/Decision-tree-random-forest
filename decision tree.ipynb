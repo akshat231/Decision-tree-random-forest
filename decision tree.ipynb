{
    "cells": [
        {
            "cell_type": "code",
            "execution_count": 1,
            "source": [
                "import numpy as np  \r\n",
                "import pandas as pd  \r\n",
                "import matplotlib.pyplot as plt  \r\n",
                "import seaborn as sns\r\n",
                "#importing modules"
            ],
            "outputs": [],
            "metadata": {}
        },
        {
            "cell_type": "code",
            "execution_count": 2,
            "source": [
                "df=pd.read_csv('kyphosis.csv')\r\n",
                "#reading data"
            ],
            "outputs": [],
            "metadata": {}
        },
        {
            "cell_type": "code",
            "execution_count": 3,
            "source": [
                "df.head()"
            ],
            "outputs": [
                {
                    "output_type": "execute_result",
                    "data": {
                        "text/plain": [
                            "  Kyphosis  Age  Number  Start\n",
                            "0   absent   71       3      5\n",
                            "1   absent  158       3     14\n",
                            "2  present  128       4      5\n",
                            "3   absent    2       5      1\n",
                            "4   absent    1       4     15"
                        ],
                        "text/html": [
                            "<div>\n",
                            "<style scoped>\n",
                            "    .dataframe tbody tr th:only-of-type {\n",
                            "        vertical-align: middle;\n",
                            "    }\n",
                            "\n",
                            "    .dataframe tbody tr th {\n",
                            "        vertical-align: top;\n",
                            "    }\n",
                            "\n",
                            "    .dataframe thead th {\n",
                            "        text-align: right;\n",
                            "    }\n",
                            "</style>\n",
                            "<table border=\"1\" class=\"dataframe\">\n",
                            "  <thead>\n",
                            "    <tr style=\"text-align: right;\">\n",
                            "      <th></th>\n",
                            "      <th>Kyphosis</th>\n",
                            "      <th>Age</th>\n",
                            "      <th>Number</th>\n",
                            "      <th>Start</th>\n",
                            "    </tr>\n",
                            "  </thead>\n",
                            "  <tbody>\n",
                            "    <tr>\n",
                            "      <th>0</th>\n",
                            "      <td>absent</td>\n",
                            "      <td>71</td>\n",
                            "      <td>3</td>\n",
                            "      <td>5</td>\n",
                            "    </tr>\n",
                            "    <tr>\n",
                            "      <th>1</th>\n",
                            "      <td>absent</td>\n",
                            "      <td>158</td>\n",
                            "      <td>3</td>\n",
                            "      <td>14</td>\n",
                            "    </tr>\n",
                            "    <tr>\n",
                            "      <th>2</th>\n",
                            "      <td>present</td>\n",
                            "      <td>128</td>\n",
                            "      <td>4</td>\n",
                            "      <td>5</td>\n",
                            "    </tr>\n",
                            "    <tr>\n",
                            "      <th>3</th>\n",
                            "      <td>absent</td>\n",
                            "      <td>2</td>\n",
                            "      <td>5</td>\n",
                            "      <td>1</td>\n",
                            "    </tr>\n",
                            "    <tr>\n",
                            "      <th>4</th>\n",
                            "      <td>absent</td>\n",
                            "      <td>1</td>\n",
                            "      <td>4</td>\n",
                            "      <td>15</td>\n",
                            "    </tr>\n",
                            "  </tbody>\n",
                            "</table>\n",
                            "</div>"
                        ]
                    },
                    "metadata": {},
                    "execution_count": 3
                }
            ],
            "metadata": {}
        },
        {
            "cell_type": "code",
            "execution_count": 4,
            "source": [
                "sns.pairplot(df)"
            ],
            "outputs": [
                {
                    "output_type": "execute_result",
                    "data": {
                        "text/plain": [
                            "<seaborn.axisgrid.PairGrid at 0x27663308340>"
                        ]
                    },
                    "metadata": {},
                    "execution_count": 4
                },
                {
                    "output_type": "display_data",
                    "data": {
                        "text/plain": [
                            "<Figure size 540x540 with 12 Axes>"
                        ],
                        "image/png": "[encoded data removed]"
                    },
                    "metadata": {
                        "needs_background": "light"
                    }
                }
            ],
            "metadata": {}
        },
        {
            "cell_type": "code",
            "execution_count": 5,
            "source": [
                "from sklearn.model_selection import train_test_split\r\n",
                "#splitting"
            ],
            "outputs": [],
            "metadata": {}
        },
        {
            "cell_type": "code",
            "execution_count": 7,
            "source": [
                "X=df.drop('Kyphosis',axis=1)"
            ],
            "outputs": [],
            "metadata": {}
        },
        {
            "cell_type": "code",
            "execution_count": 9,
            "source": [
                "y=df['Kyphosis']"
            ],
            "outputs": [],
            "metadata": {}
        },
        {
            "cell_type": "code",
            "execution_count": 11,
            "source": [
                "X_train,X_test,y_train,y_test=train_test_split(X,y,test_size=0.3,random_state=42)"
            ],
            "outputs": [],
            "metadata": {}
        },
        {
            "cell_type": "code",
            "execution_count": 12,
            "source": [
                "from sklearn.tree import DecisionTreeClassifier"
            ],
            "outputs": [],
            "metadata": {}
        },
        {
            "cell_type": "code",
            "execution_count": 13,
            "source": [
                "dtree=DecisionTreeClassifier()"
            ],
            "outputs": [],
            "metadata": {}
        },
        {
            "cell_type": "code",
            "execution_count": 14,
            "source": [
                "dtree.fit(X_train,y_train)\r\n",
                "#fitting"
            ],
            "outputs": [
                {
                    "output_type": "execute_result",
                    "data": {
                        "text/plain": [
                            "DecisionTreeClassifier()"
                        ]
                    },
                    "metadata": {},
                    "execution_count": 14
                }
            ],
            "metadata": {}
        },
        {
            "cell_type": "code",
            "execution_count": 15,
            "source": [
                "predictions=dtree.predict(X_test)"
            ],
            "outputs": [],
            "metadata": {}
        },
        {
            "cell_type": "code",
            "execution_count": 16,
            "source": [
                "from sklearn.metrics import confusion_matrix,classification_report"
            ],
            "outputs": [],
            "metadata": {}
        },
        {
            "cell_type": "code",
            "execution_count": 17,
            "source": [
                "print(confusion_matrix(predictions,y_test),classification_report(predictions,y_test))\r\n",
                "#72% accuracy "
            ],
            "outputs": [
                {
                    "output_type": "stream",
                    "name": "stdout",
                    "text": [
                        "[[17  5]\n",
                        " [ 2  1]]               precision    recall  f1-score   support\n",
                        "\n",
                        "      absent       0.89      0.77      0.83        22\n",
                        "     present       0.17      0.33      0.22         3\n",
                        "\n",
                        "    accuracy                           0.72        25\n",
                        "   macro avg       0.53      0.55      0.53        25\n",
                        "weighted avg       0.81      0.72      0.76        25\n",
                        "\n"
                    ]
                }
            ],
            "metadata": {}
        },
        {
            "cell_type": "code",
            "execution_count": 18,
            "source": [
                "from sklearn.ensemble import RandomForestClassifier"
            ],
            "outputs": [],
            "metadata": {}
        },
        {
            "cell_type": "code",
            "execution_count": 19,
            "source": [
                "rfc=RandomForestClassifier(n_estimators=200)"
            ],
            "outputs": [],
            "metadata": {}
        },
        {
            "cell_type": "code",
            "execution_count": 20,
            "source": [
                "rfc.fit(X_train,y_train)"
            ],
            "outputs": [
                {
                    "output_type": "execute_result",
                    "data": {
                        "text/plain": [
                            "RandomForestClassifier(n_estimators=200)"
                        ]
                    },
                    "metadata": {},
                    "execution_count": 20
                }
            ],
            "metadata": {}
        },
        {
            "cell_type": "code",
            "execution_count": 21,
            "source": [
                "rfc_pred=rfc.predict(X_test)"
            ],
            "outputs": [],
            "metadata": {}
        },
        {
            "cell_type": "code",
            "execution_count": 22,
            "source": [
                "print(confusion_matrix(rfc_pred,y_test),classification_report(rfc_pred,y_test))"
            ],
            "outputs": [
                {
                    "output_type": "stream",
                    "name": "stdout",
                    "text": [
                        "[[19  5]\n",
                        " [ 0  1]]               precision    recall  f1-score   support\n",
                        "\n",
                        "      absent       1.00      0.79      0.88        24\n",
                        "     present       0.17      1.00      0.29         1\n",
                        "\n",
                        "    accuracy                           0.80        25\n",
                        "   macro avg       0.58      0.90      0.58        25\n",
                        "weighted avg       0.97      0.80      0.86        25\n",
                        "\n"
                    ]
                }
            ],
            "metadata": {}
        },
        {
            "cell_type": "code",
            "execution_count": 23,
            "source": [
                "error_rate=[]\r\n",
                "for i in range(1,40):\r\n",
                "    rfc=RandomForestClassifier(n_estimators=i)\r\n",
                "    rfc.fit(X_train,y_train)\r\n",
                "    rfc_pred_i=rfc.predict(X_test)\r\n",
                "    error_rate.append(np.mean(rfc_pred_i!=y_test))"
            ],
            "outputs": [],
            "metadata": {}
        },
        {
            "cell_type": "code",
            "execution_count": 24,
            "source": [
                "plt.figure(figsize=(10,6))\r\n",
                "plt.plot(range(1,40),error_rate,color='blue',linestyle='dashed',marker='o',markerfacecolor='red',markersize=10)\r\n",
                "plt.title('error rate v k value')\r\n",
                "plt.xlabel('k')\r\n",
                "plt.ylabel('error rate')"
            ],
            "outputs": [
                {
                    "output_type": "execute_result",
                    "data": {
                        "text/plain": [
                            "Text(0, 0.5, 'error rate')"
                        ]
                    },
                    "metadata": {},
                    "execution_count": 24
                },
                {
                    "output_type": "display_data",
                    "data": {
                        "text/plain": [
                            "<Figure size 720x432 with 1 Axes>"
                        ],
                        "image/png": "[encoded data removed]"
                    },
                    "metadata": {
                        "needs_background": "light"
                    }
                }
            ],
            "metadata": {}
        },
        {
            "cell_type": "code",
            "execution_count": 25,
            "source": [
                "rfc=RandomForestClassifier(n_estimators=26)\r\n",
                "rfc.fit(X_train,y_train)\r\n",
                "rfc_pred_i=rfc.predict(X_test)"
            ],
            "outputs": [],
            "metadata": {}
        },
        {
            "cell_type": "code",
            "execution_count": 26,
            "source": [
                "print(confusion_matrix(rfc_pred_i,y_test),classification_report(rfc_pred_i,y_test))\r\n",
                "#80 % accuracy"
            ],
            "outputs": [
                {
                    "output_type": "stream",
                    "name": "stdout",
                    "text": [
                        "[[19  5]\n",
                        " [ 0  1]]               precision    recall  f1-score   support\n",
                        "\n",
                        "      absent       1.00      0.79      0.88        24\n",
                        "     present       0.17      1.00      0.29         1\n",
                        "\n",
                        "    accuracy                           0.80        25\n",
                        "   macro avg       0.58      0.90      0.58        25\n",
                        "weighted avg       0.97      0.80      0.86        25\n",
                        "\n"
                    ]
                }
            ],
            "metadata": {}
        }
    ],
    "metadata": {
        "orig_nbformat": 4,
        "language_info": {
            "name": "python",
            "version": "3.9.5",
            "mimetype": "text/x-python",
            "codemirror_mode": {
                "name": "ipython",
                "version": 3
            },
            "pygments_lexer": "ipython3",
            "nbconvert_exporter": "python",
            "file_extension": ".py"
        },
        "kernelspec": {
            "name": "python3",
            "display_name": "Python 3.9.5 64-bit"
        },
        "interpreter": {
            "hash": "33dc6d49505b4536b6a128d9d7c879e1fa44477ad44947bbbe73093067fe6393"
        }
    },
    "nbformat": 4,
    "nbformat_minor": 2
}